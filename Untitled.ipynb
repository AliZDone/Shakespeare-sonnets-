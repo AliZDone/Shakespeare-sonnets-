{
 "cells": [
  {
   "cell_type": "code",
   "execution_count": 2,
   "id": "258b6b33-8786-4525-bf98-f24ec7460c67",
   "metadata": {},
   "outputs": [],
   "source": [
    "import numpy as np\n",
    "import matplotlib.pyplot as plt\n",
    "import tensorflow as tf"
   ]
  },
  {
   "cell_type": "markdown",
   "id": "88e5c037-ec0a-4763-bf1c-f27163890547",
   "metadata": {},
   "source": [
    "- `FILE_PATH`: The file path where the sonnets file is located. \n",
    "\n",
    "- `NUM_BATCHES`: Number of batches. Defaults to 16.\n",
    "- `LSTM_UNITS`: Number of LSTM units in the LSTM layer.\n",
    "- `EMBEDDING_DIM`: Number of dimensions in the embedding layer."
   ]
  },
  {
   "cell_type": "code",
   "execution_count": 3,
   "id": "9ea76bb4-8d3b-426d-912e-8d9f25c78137",
   "metadata": {},
   "outputs": [],
   "source": [
    "FILE_PATH = './sonnets.txt'\n",
    "NUM_BATCH = 16\n",
    "LSTM_UNIT = 128\n",
    "EMBEDDING_DIM = 100 "
   ]
  },
  {
   "cell_type": "code",
   "execution_count": 4,
   "id": "a6c0bb3b-8c72-4dfe-9c4a-909c766820ed",
   "metadata": {
    "collapsed": true,
    "jupyter": {
     "outputs_hidden": true
    }
   },
   "outputs": [
    {
     "name": "stdout",
     "output_type": "stream",
     "text": [
      "number of corpus 2003 :\n",
      "The first 5 corpus is like:\n",
      " 1 . from fairest creatures we desire increase,\n",
      " 2 . that thereby beauty's rose might never die,\n",
      " 3 . but as the riper should by time decease,\n",
      " 4 . his tender heir might bear his memory:\n",
      " 5 . but thou, contracted to thine own bright eyes,\n",
      " 6 . feed'st thy light'st flame with self-substantial fuel,\n",
      " 7 . making a famine where abundance lies,\n",
      " 8 . thyself thy foe, to thy sweet self too cruel.\n",
      " 9 . thou that art now the world's fresh ornament\n",
      " 10 . and only herald to the gaudy spring,\n",
      " 11 . within thine own bud buriest thy content\n",
      " 12 . and, tender churl, makest waste in niggarding.\n",
      " 13 .   pity the world, or else this glutton be,\n",
      " 14 .   to eat the world's due, by the grave and thee.\n",
      " 15 . and dig deep trenches in thy beauty's field,\n",
      " 16 . thy youth's proud livery, so gazed on now,\n",
      " 17 . will be a tatter'd weed, of small worth held:\n",
      " 18 . then being ask'd where all thy beauty lies,\n",
      " 19 . where all the treasure of thy lusty days,\n",
      " 20 . to say, within thine own deep-sunken eyes,\n",
      " 21 . were an all-eating shame and thriftless praise.\n",
      " 22 . how much more praise deserved thy beauty's use,\n",
      " 23 . if thou couldst answer 'this fair child of mine\n",
      " 24 . shall sum my count and make my old excuse,'\n",
      " 25 . proving his beauty by succession thine!\n",
      " 26 .   this were to be new made when thou art old,\n",
      " 27 .   and see thy blood warm when thou feel'st it cold.\n",
      " 28 . now is the time that face should form another;\n",
      " 29 . whose fresh repair if now thou not renewest,\n",
      " 30 . thou dost beguile the world, unbless some mother.\n",
      " 31 . for where is she so fair whose unear'd womb\n",
      " 32 . disdains the tillage of thy husbandry?\n",
      " 33 . or who is he so fond will be the tomb\n",
      " 34 . of his self-love, to stop posterity?\n",
      " 35 . thou art thy mother's glass, and she in thee\n",
      " 36 . calls back the lovely april of her prime:\n",
      " 37 . so thou through windows of thine age shall see\n",
      " 38 . despite of wrinkles this thy golden time.\n",
      " 39 .   but if thou live, remember'd not to be,\n",
      " 40 .   die single, and thine image dies with thee.\n"
     ]
    }
   ],
   "source": [
    "with open(FILE_PATH) as f:\n",
    "    data = f.read()\n",
    "\n",
    "corpus_dirty =  data.lower().split(\"\\n\")\n",
    "corpus = []\n",
    "\n",
    "for line in corpus_dirty:\n",
    "    if len(line) <= 6:\n",
    "        corpus_dirty.remove(line)\n",
    "    else: \n",
    "        corpus.append(line)\n",
    "    # elif line == \"\":\n",
    "    #     corpus.remove(line)\n",
    "\n",
    "print(f'number of corpus {len(corpus)} :')\n",
    "print('The first 5 corpus is like:')\n",
    "for i in range(40):\n",
    "    print(f' {i+1} . {corpus[i]}')"
   ]
  },
  {
   "cell_type": "code",
   "execution_count": 5,
   "id": "dc647f34-12cd-4561-a225-d9c15bc9b4e8",
   "metadata": {},
   "outputs": [],
   "source": [
    "def fit_vectorizer(corpus):\n",
    "    \n",
    "    vectorizer = tf.keras.layers.TextVectorization()\n",
    "    vectorizer.adapt(corpus)\n",
    "    \n",
    "    return vectorizer"
   ]
  },
  {
   "cell_type": "code",
   "execution_count": 6,
   "id": "fdc5c0b8-efb6-481d-bd7e-091544c151b9",
   "metadata": {},
   "outputs": [
    {
     "name": "stdout",
     "output_type": "stream",
     "text": [
      "Total vocabulary is (with out of vocab) 3091\n"
     ]
    }
   ],
   "source": [
    "vectorizer = fit_vectorizer(corpus)\n",
    "total_voc = len(vectorizer.get_vocabulary())\n",
    "print(f'Total vocabulary is (with out of vocab) {total_voc}')"
   ]
  },
  {
   "cell_type": "code",
   "execution_count": 7,
   "id": "c41eaf48-ef75-4463-a9b4-3554c3e36bdd",
   "metadata": {},
   "outputs": [],
   "source": [
    "def n_gram_seqs(corpus, vectorizer):\n",
    "    input_sequence = []\n",
    "\n",
    "    for line in corpus:\n",
    "        sequnce = vectorizer(line)\n",
    "        for i in range(len(sequnce)):\n",
    "            n_gram = sequnce[:i+1]\n",
    "            input_sequence.append(n_gram)\n",
    "\n",
    "    return input_sequence"
   ]
  },
  {
   "cell_type": "code",
   "execution_count": 8,
   "id": "83b960ab-0151-47cc-a0fc-6c6022f13c14",
   "metadata": {},
   "outputs": [
    {
     "name": "stdout",
     "output_type": "stream",
     "text": [
      "n_gram sequences for first corpus look like this:\n",
      "\n",
      "first corpus : that thereby beauty's rose might never die,\n"
     ]
    },
    {
     "data": {
      "text/plain": [
       "[<tf.Tensor: shape=(1,), dtype=int64, numpy=array([9], dtype=int64)>,\n",
       " <tf.Tensor: shape=(2,), dtype=int64, numpy=array([  9, 895], dtype=int64)>,\n",
       " <tf.Tensor: shape=(3,), dtype=int64, numpy=array([  9, 895, 131], dtype=int64)>,\n",
       " <tf.Tensor: shape=(4,), dtype=int64, numpy=array([  9, 895, 131, 353], dtype=int64)>,\n",
       " <tf.Tensor: shape=(5,), dtype=int64, numpy=array([  9, 895, 131, 353,  99], dtype=int64)>,\n",
       " <tf.Tensor: shape=(6,), dtype=int64, numpy=array([  9, 895, 131, 353,  99, 190], dtype=int64)>,\n",
       " <tf.Tensor: shape=(7,), dtype=int64, numpy=array([  9, 895, 131, 353,  99, 190, 196], dtype=int64)>]"
      ]
     },
     "execution_count": 8,
     "metadata": {},
     "output_type": "execute_result"
    }
   ],
   "source": [
    "# Test function n_gram_seqs\n",
    "first_example_sequence = n_gram_seqs([corpus[1]], vectorizer)\n",
    "\n",
    "print(\"n_gram sequences for first corpus look like this:\\n\")\n",
    "print(f'first corpus : {corpus[1]}')\n",
    "first_example_sequence"
   ]
  },
  {
   "cell_type": "code",
   "execution_count": 9,
   "id": "8f840ab2-fe4b-42a9-9106-a6ed2d28c3a4",
   "metadata": {},
   "outputs": [
    {
     "name": "stdout",
     "output_type": "stream",
     "text": [
      "n_gram input_sequnces length : 16206\n",
      "max sequnce length : 11\n"
     ]
    }
   ],
   "source": [
    "input_sequnces = n_gram_seqs(corpus, vectorizer)\n",
    "\n",
    "max_input_sequnces = max(len(x) for x in input_sequnces)\n",
    "\n",
    "print(f'n_gram input_sequnces length : {len(input_sequnces)}')\n",
    "print(f'max sequnce length : {max_input_sequnces}')"
   ]
  },
  {
   "cell_type": "code",
   "execution_count": 10,
   "id": "e888f0b3-0de1-4cd2-8347-20226c004a77",
   "metadata": {},
   "outputs": [],
   "source": [
    "def pad_sequnce(input_sequnces, max_input_sequnces):\n",
    "    \n",
    "    padded_sequnces = tf.keras.utils.pad_sequences(input_sequnces, maxlen=max_input_sequnces, padding='pre')\n",
    "    \n",
    "    return padded_sequnces"
   ]
  },
  {
   "cell_type": "code",
   "execution_count": 11,
   "id": "fcd5b69b-35a1-46b6-a885-b1bd6db8e342",
   "metadata": {},
   "outputs": [
    {
     "data": {
      "text/plain": [
       "array([[  0,   0,   0,   0,   0,   0,   9],\n",
       "       [  0,   0,   0,   0,   0,   9, 895],\n",
       "       [  0,   0,   0,   0,   9, 895, 131],\n",
       "       [  0,   0,   0,   9, 895, 131, 353],\n",
       "       [  0,   0,   9, 895, 131, 353,  99],\n",
       "       [  0,   9, 895, 131, 353,  99, 190],\n",
       "       [  9, 895, 131, 353,  99, 190, 196]])"
      ]
     },
     "execution_count": 11,
     "metadata": {},
     "output_type": "execute_result"
    }
   ],
   "source": [
    "# Test function pad_sequnce\n",
    "first_padded_seq = pad_sequnce(first_example_sequence, max(len(x) for x in first_example_sequence))\n",
    "first_padded_seq"
   ]
  },
  {
   "cell_type": "code",
   "execution_count": 12,
   "id": "4e41867a-7d82-4cb2-b9f2-89ed01c1dd46",
   "metadata": {},
   "outputs": [
    {
     "name": "stdout",
     "output_type": "stream",
     "text": [
      "padded corpus has shape : (16206, 11)\n"
     ]
    }
   ],
   "source": [
    "# Pad the whole corpus\n",
    "padded_sequnces = pad_sequnce(input_sequnces, max_input_sequnces)\n",
    "\n",
    "print(f'padded corpus has shape : {padded_sequnces.shape}')"
   ]
  },
  {
   "cell_type": "markdown",
   "id": "b193a517-c6d3-4a99-b0fb-4ef0dcd24439",
   "metadata": {},
   "source": [
    "## explain feature_and_label_dataset function"
   ]
  },
  {
   "cell_type": "code",
   "execution_count": 13,
   "id": "b2353298-cad6-4911-8d04-9210c56daa94",
   "metadata": {},
   "outputs": [],
   "source": [
    "def feature_and_label_dataset(input_sequnces, total_voc):\n",
    "\n",
    "    feature = input_sequnces[:,:-1]\n",
    "    label = input_sequnces[:,-1:]\n",
    "\n",
    "    one_hot_label = tf.keras.utils.to_categorical(label, total_voc)\n",
    "    dataset = tf.data.Dataset.from_tensor_slices((feature, one_hot_label))\n",
    "    batched_dataset = dataset.batch(NUM_BATCH)\n",
    "\n",
    "    return batched_dataset"
   ]
  },
  {
   "cell_type": "code",
   "execution_count": 14,
   "id": "973d6d47-56d9-4c69-9c47-e2ece8eb0b12",
   "metadata": {},
   "outputs": [
    {
     "name": "stdout",
     "output_type": "stream",
     "text": [
      "Example \n",
      "\n",
      " N_gram : \n",
      "\n",
      "[[  0   0   0   0   0   0]\n",
      " [  0   0   0   0   0   9]\n",
      " [  0   0   0   0   9 895]\n",
      " [  0   0   0   9 895 131]\n",
      " [  0   0   9 895 131 353]\n",
      " [  0   9 895 131 353  99]\n",
      " [  9 895 131 353  99 190]]\n",
      " \n",
      "label shape : \n",
      "\n",
      "(7, 3091)\n"
     ]
    }
   ],
   "source": [
    "# Test function feafeature_and_label_dataset\n",
    "dataset_example = feature_and_label_dataset(first_padded_seq, total_voc)\n",
    "\n",
    "print('Example \\n')\n",
    "for feature, label in dataset_example.take(1):\n",
    "    print(f' N_gram : \\n\\n{feature}')\n",
    "    print(f' \\nlabel shape : \\n\\n{label.shape}')"
   ]
  },
  {
   "cell_type": "code",
   "execution_count": 15,
   "id": "a620b8bc-bc49-4bd0-b40c-63a21bfe29da",
   "metadata": {},
   "outputs": [],
   "source": [
    "dataset = feature_and_label_dataset(padded_sequnces, total_voc).prefetch(tf.data.AUTOTUNE)"
   ]
  },
  {
   "cell_type": "code",
   "execution_count": 41,
   "id": "98b9615a-42ec-49d2-88f4-45078b3adb6c",
   "metadata": {},
   "outputs": [],
   "source": [
    "def create_uncompile_model(total_voc, max_input_sequnces):\n",
    "    \n",
    "    model = tf.keras.Sequential([\n",
    "        tf.keras.layers.Input(shape=(max_input_sequnces-1,)),\n",
    "        tf.keras.layers.Embedding(total_voc, EMBEDDING_DIM),\n",
    "        tf.keras.layers.Conv1D(256, 5, activation='relu'),\n",
    "        tf.keras.layers.BatchNormalization(),\n",
    "        tf.keras.layers.Conv1D(128, 5, activation='relu'),\n",
    "        tf.keras.layers.BatchNormalization(),\n",
    "        tf.keras.layers.Bidirectional(tf.keras.layers.LSTM(LSTM_UNIT, return_sequences=True)),\n",
    "        tf.keras.layers.Bidirectional(tf.keras.layers.LSTM(LSTM_UNIT)),\n",
    "        tf.keras.layers.Dense(total_voc, activation='softmax')\n",
    "    ])\n",
    "\n",
    "    return model"
   ]
  },
  {
   "cell_type": "code",
   "execution_count": 34,
   "id": "99ead99f-2fbb-463d-9958-27a7270bf617",
   "metadata": {},
   "outputs": [],
   "source": [
    "uncompile_model = create_uncompile_model(total_voc, max_input_sequnces)"
   ]
  },
  {
   "cell_type": "code",
   "execution_count": 35,
   "id": "ae30c027-0a34-4d69-823e-4bf54646f560",
   "metadata": {},
   "outputs": [],
   "source": [
    "def create_model():\n",
    "\n",
    "    model = uncompile_model\n",
    "\n",
    "    model.compile(loss='categorical_crossentropy',\n",
    "                  optimizer=tf.keras.optimizers.Adam(),\n",
    "                  metrics=[\"accuracy\"])  \n",
    "\n",
    "    return model\n"
   ]
  },
  {
   "cell_type": "code",
   "execution_count": 36,
   "id": "a6525c65-723b-4b84-b6fd-dc9c72d79e17",
   "metadata": {},
   "outputs": [],
   "source": [
    "model = create_model()"
   ]
  },
  {
   "cell_type": "code",
   "execution_count": 37,
   "id": "10483084-4c96-46e5-82f0-f54f3e0d4ba2",
   "metadata": {
    "scrolled": true
   },
   "outputs": [
    {
     "name": "stdout",
     "output_type": "stream",
     "text": [
      "Epoch 1/50\n",
      "\u001b[1m1013/1013\u001b[0m \u001b[32m━━━━━━━━━━━━━━━━━━━━\u001b[0m\u001b[37m\u001b[0m \u001b[1m27s\u001b[0m 20ms/step - accuracy: 0.0298 - loss: 6.9213\n",
      "Epoch 2/50\n",
      "\u001b[1m1013/1013\u001b[0m \u001b[32m━━━━━━━━━━━━━━━━━━━━\u001b[0m\u001b[37m\u001b[0m \u001b[1m22s\u001b[0m 22ms/step - accuracy: 0.0426 - loss: 5.9206\n",
      "Epoch 3/50\n",
      "\u001b[1m1013/1013\u001b[0m \u001b[32m━━━━━━━━━━━━━━━━━━━━\u001b[0m\u001b[37m\u001b[0m \u001b[1m22s\u001b[0m 22ms/step - accuracy: 0.0530 - loss: 5.5596\n",
      "Epoch 4/50\n",
      "\u001b[1m1013/1013\u001b[0m \u001b[32m━━━━━━━━━━━━━━━━━━━━\u001b[0m\u001b[37m\u001b[0m \u001b[1m23s\u001b[0m 22ms/step - accuracy: 0.0587 - loss: 5.2193\n",
      "Epoch 5/50\n",
      "\u001b[1m1013/1013\u001b[0m \u001b[32m━━━━━━━━━━━━━━━━━━━━\u001b[0m\u001b[37m\u001b[0m \u001b[1m24s\u001b[0m 24ms/step - accuracy: 0.0689 - loss: 4.8950\n",
      "Epoch 6/50\n",
      "\u001b[1m1013/1013\u001b[0m \u001b[32m━━━━━━━━━━━━━━━━━━━━\u001b[0m\u001b[37m\u001b[0m \u001b[1m22s\u001b[0m 22ms/step - accuracy: 0.0806 - loss: 4.5907\n",
      "Epoch 7/50\n",
      "\u001b[1m1013/1013\u001b[0m \u001b[32m━━━━━━━━━━━━━━━━━━━━\u001b[0m\u001b[37m\u001b[0m \u001b[1m22s\u001b[0m 22ms/step - accuracy: 0.0947 - loss: 4.3000\n",
      "Epoch 8/50\n",
      "\u001b[1m1013/1013\u001b[0m \u001b[32m━━━━━━━━━━━━━━━━━━━━\u001b[0m\u001b[37m\u001b[0m \u001b[1m22s\u001b[0m 22ms/step - accuracy: 0.1187 - loss: 4.0366\n",
      "Epoch 9/50\n",
      "\u001b[1m1013/1013\u001b[0m \u001b[32m━━━━━━━━━━━━━━━━━━━━\u001b[0m\u001b[37m\u001b[0m \u001b[1m22s\u001b[0m 22ms/step - accuracy: 0.1538 - loss: 3.7680\n",
      "Epoch 10/50\n",
      "\u001b[1m1013/1013\u001b[0m \u001b[32m━━━━━━━━━━━━━━━━━━━━\u001b[0m\u001b[37m\u001b[0m \u001b[1m22s\u001b[0m 22ms/step - accuracy: 0.1915 - loss: 3.5159\n",
      "Epoch 11/50\n",
      "\u001b[1m1013/1013\u001b[0m \u001b[32m━━━━━━━━━━━━━━━━━━━━\u001b[0m\u001b[37m\u001b[0m \u001b[1m22s\u001b[0m 22ms/step - accuracy: 0.2276 - loss: 3.3072\n",
      "Epoch 12/50\n",
      "\u001b[1m1013/1013\u001b[0m \u001b[32m━━━━━━━━━━━━━━━━━━━━\u001b[0m\u001b[37m\u001b[0m \u001b[1m22s\u001b[0m 22ms/step - accuracy: 0.2723 - loss: 3.1110\n",
      "Epoch 13/50\n",
      "\u001b[1m1013/1013\u001b[0m \u001b[32m━━━━━━━━━━━━━━━━━━━━\u001b[0m\u001b[37m\u001b[0m \u001b[1m22s\u001b[0m 22ms/step - accuracy: 0.3145 - loss: 2.8834\n",
      "Epoch 14/50\n",
      "\u001b[1m1013/1013\u001b[0m \u001b[32m━━━━━━━━━━━━━━━━━━━━\u001b[0m\u001b[37m\u001b[0m \u001b[1m22s\u001b[0m 22ms/step - accuracy: 0.3674 - loss: 2.6860\n",
      "Epoch 15/50\n",
      "\u001b[1m1013/1013\u001b[0m \u001b[32m━━━━━━━━━━━━━━━━━━━━\u001b[0m\u001b[37m\u001b[0m \u001b[1m22s\u001b[0m 22ms/step - accuracy: 0.4142 - loss: 2.4794\n",
      "Epoch 16/50\n",
      "\u001b[1m1013/1013\u001b[0m \u001b[32m━━━━━━━━━━━━━━━━━━━━\u001b[0m\u001b[37m\u001b[0m \u001b[1m22s\u001b[0m 21ms/step - accuracy: 0.4448 - loss: 2.3304\n",
      "Epoch 17/50\n",
      "\u001b[1m1013/1013\u001b[0m \u001b[32m━━━━━━━━━━━━━━━━━━━━\u001b[0m\u001b[37m\u001b[0m \u001b[1m22s\u001b[0m 21ms/step - accuracy: 0.4856 - loss: 2.1805\n",
      "Epoch 18/50\n",
      "\u001b[1m1013/1013\u001b[0m \u001b[32m━━━━━━━━━━━━━━━━━━━━\u001b[0m\u001b[37m\u001b[0m \u001b[1m22s\u001b[0m 22ms/step - accuracy: 0.5220 - loss: 2.0416\n",
      "Epoch 19/50\n",
      "\u001b[1m1013/1013\u001b[0m \u001b[32m━━━━━━━━━━━━━━━━━━━━\u001b[0m\u001b[37m\u001b[0m \u001b[1m22s\u001b[0m 22ms/step - accuracy: 0.5408 - loss: 1.9401\n",
      "Epoch 20/50\n",
      "\u001b[1m1013/1013\u001b[0m \u001b[32m━━━━━━━━━━━━━━━━━━━━\u001b[0m\u001b[37m\u001b[0m \u001b[1m22s\u001b[0m 22ms/step - accuracy: 0.5578 - loss: 1.8704\n",
      "Epoch 21/50\n",
      "\u001b[1m1013/1013\u001b[0m \u001b[32m━━━━━━━━━━━━━━━━━━━━\u001b[0m\u001b[37m\u001b[0m \u001b[1m22s\u001b[0m 22ms/step - accuracy: 0.5830 - loss: 1.7593\n",
      "Epoch 22/50\n",
      "\u001b[1m1013/1013\u001b[0m \u001b[32m━━━━━━━━━━━━━━━━━━━━\u001b[0m\u001b[37m\u001b[0m \u001b[1m22s\u001b[0m 22ms/step - accuracy: 0.6148 - loss: 1.6573\n",
      "Epoch 23/50\n",
      "\u001b[1m1013/1013\u001b[0m \u001b[32m━━━━━━━━━━━━━━━━━━━━\u001b[0m\u001b[37m\u001b[0m \u001b[1m25s\u001b[0m 24ms/step - accuracy: 0.6410 - loss: 1.5382\n",
      "Epoch 24/50\n",
      "\u001b[1m1013/1013\u001b[0m \u001b[32m━━━━━━━━━━━━━━━━━━━━\u001b[0m\u001b[37m\u001b[0m \u001b[1m24s\u001b[0m 23ms/step - accuracy: 0.6675 - loss: 1.4342\n",
      "Epoch 25/50\n",
      "\u001b[1m1013/1013\u001b[0m \u001b[32m━━━━━━━━━━━━━━━━━━━━\u001b[0m\u001b[37m\u001b[0m \u001b[1m23s\u001b[0m 22ms/step - accuracy: 0.6751 - loss: 1.3845\n",
      "Epoch 26/50\n",
      "\u001b[1m1013/1013\u001b[0m \u001b[32m━━━━━━━━━━━━━━━━━━━━\u001b[0m\u001b[37m\u001b[0m \u001b[1m21s\u001b[0m 21ms/step - accuracy: 0.6800 - loss: 1.3646\n",
      "Epoch 27/50\n",
      "\u001b[1m1013/1013\u001b[0m \u001b[32m━━━━━━━━━━━━━━━━━━━━\u001b[0m\u001b[37m\u001b[0m \u001b[1m27s\u001b[0m 27ms/step - accuracy: 0.6858 - loss: 1.3210\n",
      "Epoch 28/50\n",
      "\u001b[1m1013/1013\u001b[0m \u001b[32m━━━━━━━━━━━━━━━━━━━━\u001b[0m\u001b[37m\u001b[0m \u001b[1m29s\u001b[0m 28ms/step - accuracy: 0.6950 - loss: 1.2664\n",
      "Epoch 29/50\n",
      "\u001b[1m1013/1013\u001b[0m \u001b[32m━━━━━━━━━━━━━━━━━━━━\u001b[0m\u001b[37m\u001b[0m \u001b[1m25s\u001b[0m 25ms/step - accuracy: 0.7064 - loss: 1.2163\n",
      "Epoch 30/50\n",
      "\u001b[1m1013/1013\u001b[0m \u001b[32m━━━━━━━━━━━━━━━━━━━━\u001b[0m\u001b[37m\u001b[0m \u001b[1m26s\u001b[0m 26ms/step - accuracy: 0.7170 - loss: 1.1742\n",
      "Epoch 31/50\n",
      "\u001b[1m1013/1013\u001b[0m \u001b[32m━━━━━━━━━━━━━━━━━━━━\u001b[0m\u001b[37m\u001b[0m \u001b[1m25s\u001b[0m 24ms/step - accuracy: 0.7323 - loss: 1.1130\n",
      "Epoch 32/50\n",
      "\u001b[1m1013/1013\u001b[0m \u001b[32m━━━━━━━━━━━━━━━━━━━━\u001b[0m\u001b[37m\u001b[0m \u001b[1m23s\u001b[0m 23ms/step - accuracy: 0.7440 - loss: 1.0512\n",
      "Epoch 33/50\n",
      "\u001b[1m1013/1013\u001b[0m \u001b[32m━━━━━━━━━━━━━━━━━━━━\u001b[0m\u001b[37m\u001b[0m \u001b[1m22s\u001b[0m 22ms/step - accuracy: 0.7551 - loss: 1.0103\n",
      "Epoch 34/50\n",
      "\u001b[1m1013/1013\u001b[0m \u001b[32m━━━━━━━━━━━━━━━━━━━━\u001b[0m\u001b[37m\u001b[0m \u001b[1m23s\u001b[0m 22ms/step - accuracy: 0.7677 - loss: 0.9467\n",
      "Epoch 35/50\n",
      "\u001b[1m1013/1013\u001b[0m \u001b[32m━━━━━━━━━━━━━━━━━━━━\u001b[0m\u001b[37m\u001b[0m \u001b[1m22s\u001b[0m 22ms/step - accuracy: 0.7784 - loss: 0.8858\n",
      "Epoch 36/50\n",
      "\u001b[1m1013/1013\u001b[0m \u001b[32m━━━━━━━━━━━━━━━━━━━━\u001b[0m\u001b[37m\u001b[0m \u001b[1m21s\u001b[0m 21ms/step - accuracy: 0.7928 - loss: 0.8432\n",
      "Epoch 37/50\n",
      "\u001b[1m1013/1013\u001b[0m \u001b[32m━━━━━━━━━━━━━━━━━━━━\u001b[0m\u001b[37m\u001b[0m \u001b[1m21s\u001b[0m 21ms/step - accuracy: 0.7904 - loss: 0.8370\n",
      "Epoch 38/50\n",
      "\u001b[1m1013/1013\u001b[0m \u001b[32m━━━━━━━━━━━━━━━━━━━━\u001b[0m\u001b[37m\u001b[0m \u001b[1m24s\u001b[0m 24ms/step - accuracy: 0.7880 - loss: 0.8474\n",
      "Epoch 39/50\n",
      "\u001b[1m1013/1013\u001b[0m \u001b[32m━━━━━━━━━━━━━━━━━━━━\u001b[0m\u001b[37m\u001b[0m \u001b[1m26s\u001b[0m 26ms/step - accuracy: 0.7927 - loss: 0.8124\n",
      "Epoch 40/50\n",
      "\u001b[1m1013/1013\u001b[0m \u001b[32m━━━━━━━━━━━━━━━━━━━━\u001b[0m\u001b[37m\u001b[0m \u001b[1m25s\u001b[0m 24ms/step - accuracy: 0.7989 - loss: 0.7926\n",
      "Epoch 41/50\n",
      "\u001b[1m1013/1013\u001b[0m \u001b[32m━━━━━━━━━━━━━━━━━━━━\u001b[0m\u001b[37m\u001b[0m \u001b[1m26s\u001b[0m 25ms/step - accuracy: 0.8078 - loss: 0.7619\n",
      "Epoch 42/50\n",
      "\u001b[1m1013/1013\u001b[0m \u001b[32m━━━━━━━━━━━━━━━━━━━━\u001b[0m\u001b[37m\u001b[0m \u001b[1m23s\u001b[0m 23ms/step - accuracy: 0.8151 - loss: 0.7262\n",
      "Epoch 43/50\n",
      "\u001b[1m1013/1013\u001b[0m \u001b[32m━━━━━━━━━━━━━━━━━━━━\u001b[0m\u001b[37m\u001b[0m \u001b[1m27s\u001b[0m 26ms/step - accuracy: 0.8125 - loss: 0.7181\n",
      "Epoch 44/50\n",
      "\u001b[1m1013/1013\u001b[0m \u001b[32m━━━━━━━━━━━━━━━━━━━━\u001b[0m\u001b[37m\u001b[0m \u001b[1m24s\u001b[0m 24ms/step - accuracy: 0.8277 - loss: 0.6772\n",
      "Epoch 45/50\n",
      "\u001b[1m1013/1013\u001b[0m \u001b[32m━━━━━━━━━━━━━━━━━━━━\u001b[0m\u001b[37m\u001b[0m \u001b[1m24s\u001b[0m 23ms/step - accuracy: 0.8302 - loss: 0.6580\n",
      "Epoch 46/50\n",
      "\u001b[1m1013/1013\u001b[0m \u001b[32m━━━━━━━━━━━━━━━━━━━━\u001b[0m\u001b[37m\u001b[0m \u001b[1m22s\u001b[0m 22ms/step - accuracy: 0.8358 - loss: 0.6345\n",
      "Epoch 47/50\n",
      "\u001b[1m1013/1013\u001b[0m \u001b[32m━━━━━━━━━━━━━━━━━━━━\u001b[0m\u001b[37m\u001b[0m \u001b[1m24s\u001b[0m 24ms/step - accuracy: 0.8395 - loss: 0.6185\n",
      "Epoch 48/50\n",
      "\u001b[1m1013/1013\u001b[0m \u001b[32m━━━━━━━━━━━━━━━━━━━━\u001b[0m\u001b[37m\u001b[0m \u001b[1m21s\u001b[0m 21ms/step - accuracy: 0.8382 - loss: 0.6118\n",
      "Epoch 49/50\n",
      "\u001b[1m1013/1013\u001b[0m \u001b[32m━━━━━━━━━━━━━━━━━━━━\u001b[0m\u001b[37m\u001b[0m \u001b[1m23s\u001b[0m 23ms/step - accuracy: 0.8523 - loss: 0.5611\n",
      "Epoch 50/50\n",
      "\u001b[1m1013/1013\u001b[0m \u001b[32m━━━━━━━━━━━━━━━━━━━━\u001b[0m\u001b[37m\u001b[0m \u001b[1m23s\u001b[0m 23ms/step - accuracy: 0.8549 - loss: 0.5478\n"
     ]
    }
   ],
   "source": [
    "history = model.fit(dataset, epochs=50, verbose=1)"
   ]
  },
  {
   "cell_type": "code",
   "execution_count": 38,
   "id": "db9aedd3-6385-4d1b-91eb-ccfaf39b351f",
   "metadata": {},
   "outputs": [
    {
     "data": {
      "image/png": "[encoded data removed]",
      "text/plain": [
       "<Figure size 1000x500 with 2 Axes>"
      ]
     },
     "metadata": {},
     "output_type": "display_data"
    }
   ],
   "source": [
    "# Get training and validation accuracies\n",
    "acc = history.history['accuracy']\n",
    "loss = history.history['loss']\n",
    "\n",
    "# Get number of epochs\n",
    "epochs = range(len(acc))\n",
    "\n",
    "fig, ax = plt.subplots(1, 2, figsize=(10, 5))\n",
    "fig.suptitle('Training performance - Accuracy and Loss')\n",
    "\n",
    "for i, (data, label) in enumerate(zip([acc,loss], [\"Accuracy\", \"Loss\"])):\n",
    "    ax[i].plot(epochs, data, label=label)\n",
    "    ax[i].legend()\n",
    "    ax[i].set_xlabel('epochs')"
   ]
  },
  {
   "cell_type": "code",
   "execution_count": 39,
   "id": "536cf1ae-13f5-43bc-8127-321f3dc5c639",
   "metadata": {},
   "outputs": [],
   "source": [
    "import pickle\n",
    "with open('history.pkl', 'wb') as f:\n",
    "    pickle.dump(history.history, f)"
   ]
  },
  {
   "cell_type": "code",
   "execution_count": 40,
   "id": "46427706-9c9d-4471-9563-17f8a0a1c883",
   "metadata": {},
   "outputs": [
    {
     "name": "stdout",
     "output_type": "stream",
     "text": [
      "Help me Obi Wan Kenobi, you're my only hope prove nothing bright me bright end hide die blind cold well so so so cold me well so guard shun hell now hate then bright more cruel swear well prove die cold well worth brightness so one chary well new exceeds mine live more guard thee decease it may blind cold well so so so so well end worth succession so hate lies lies lies wide me me me those well been been hide hate me prove fled so end been brightness those spend then then thee blind bright heart so hate well cold so end succession brightness hate grace\n"
     ]
    }
   ],
   "source": [
    "seed_text = \"Help me Obi Wan Kenobi, you're my only hope\"\n",
    "next_words = 100\n",
    "  \n",
    "for _ in range(next_words):\n",
    "    # Convert the text into sequences\n",
    "    token_list = vectorizer(seed_text)\n",
    "    # Pad the sequences\n",
    "    token_list = tf.keras.utils.pad_sequences([token_list], maxlen=max_input_sequnces-1, padding='pre')\n",
    "    # Get the probabilities of predicting a word\n",
    "    predicted = model.predict([token_list], verbose=0)\n",
    "    # Choose the next word based on the maximum probability\n",
    "    predicted = np.argmax(predicted, axis=-1).item()\n",
    "    # Get the actual word from the word index\n",
    "    output_word = vectorizer.get_vocabulary()[predicted]\n",
    "    # Append to the current text\n",
    "    seed_text += \" \" + output_word\n",
    "\n",
    "print(seed_text)"
   ]
  }
 ],
 "metadata": {
  "kernelspec": {
   "display_name": "Python 3 (ipykernel)",
   "language": "python",
   "name": "python3"
  },
  "language_info": {
   "codemirror_mode": {
    "name": "ipython",
    "version": 3
   },
   "file_extension": ".py",
   "mimetype": "text/x-python",
   "name": "python",
   "nbconvert_exporter": "python",
   "pygments_lexer": "ipython3",
   "version": "3.12.4"
  }
 },
 "nbformat": 4,
 "nbformat_minor": 5
}
